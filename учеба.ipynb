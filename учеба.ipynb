{
 "cells": [
  {
   "cell_type": "code",
   "execution_count": 1,
   "metadata": {},
   "outputs": [
    {
     "name": "stdout",
     "output_type": "stream",
     "text": [
      "Hello world\n"
     ]
    }
   ],
   "source": [
    "print('Hello world')"
   ]
  },
  {
   "cell_type": "code",
   "execution_count": 1,
   "metadata": {},
   "outputs": [
    {
     "name": "stdout",
     "output_type": "stream",
     "text": [
      "Введите ваше имя: Маша\n",
      "Добро пожаловать в DH, Маша\n"
     ]
    }
   ],
   "source": [
    "name = input('Введите ваше имя: ')\n",
    "print('Добро пожаловать в DH, ' + name)\n"
   ]
  },
  {
   "cell_type": "code",
   "execution_count": 5,
   "metadata": {},
   "outputs": [
    {
     "name": "stdout",
     "output_type": "stream",
     "text": [
      "Как тебя зовут? Машка!\n",
      "Машка! Добро пожаловать в DH! \n"
     ]
    }
   ],
   "source": [
    "name = input ('Как тебя зовут? ')\n",
    "print(name + ' Добро пожаловать в DH! ')"
   ]
  },
  {
   "cell_type": "code",
   "execution_count": 6,
   "metadata": {},
   "outputs": [
    {
     "name": "stdout",
     "output_type": "stream",
     "text": [
      "Как тебя зовут? Маша\n",
      "Маша, добро пожаловать в DH!\n"
     ]
    }
   ],
   "source": [
    "print(input('Как тебя зовут? ') + ', добро пожаловать в DH!')"
   ]
  },
  {
   "cell_type": "code",
   "execution_count": 2,
   "metadata": {},
   "outputs": [
    {
     "name": "stdout",
     "output_type": "stream",
     "text": [
      "6\n"
     ]
    }
   ],
   "source": [
    "a = 2\n",
    "b = 3\n",
    "print(a * b)"
   ]
  },
  {
   "cell_type": "code",
   "execution_count": 3,
   "metadata": {},
   "outputs": [
    {
     "name": "stdout",
     "output_type": "stream",
     "text": [
      "задайте число 666\n",
      "666666\n"
     ]
    }
   ],
   "source": [
    "number = input ('задайте число ')\n",
    "print(number * 2)"
   ]
  },
  {
   "cell_type": "code",
   "execution_count": 13,
   "metadata": {
    "scrolled": false
   },
   "outputs": [
    {
     "name": "stdout",
     "output_type": "stream",
     "text": [
      "Mary Sysoeva\n"
     ]
    },
    {
     "data": {
      "text/plain": [
       "11"
      ]
     },
     "execution_count": 13,
     "metadata": {},
     "output_type": "execute_result"
    }
   ],
   "source": [
    "name = 'Mary'\n",
    "surname = 'Sysoeva'\n",
    "print (name, surname)\n",
    "len(surname)+len(name)"
   ]
  },
  {
   "cell_type": "code",
   "execution_count": 14,
   "metadata": {},
   "outputs": [
    {
     "data": {
      "text/plain": [
       "'mary'"
      ]
     },
     "execution_count": 14,
     "metadata": {},
     "output_type": "execute_result"
    }
   ],
   "source": [
    "name = \"Mary\"\n",
    "name.lower()"
   ]
  },
  {
   "cell_type": "code",
   "execution_count": 15,
   "metadata": {},
   "outputs": [
    {
     "data": {
      "text/plain": [
       "'SYSOEVA'"
      ]
     },
     "execution_count": 15,
     "metadata": {},
     "output_type": "execute_result"
    }
   ],
   "source": [
    "surname = 'Sysoeva'\n",
    "surname.upper()"
   ]
  },
  {
   "cell_type": "code",
   "execution_count": 18,
   "metadata": {},
   "outputs": [
    {
     "name": "stdout",
     "output_type": "stream",
     "text": [
      "What`s your name? Kristina\n"
     ]
    },
    {
     "data": {
      "text/plain": [
       "8"
      ]
     },
     "execution_count": 18,
     "metadata": {},
     "output_type": "execute_result"
    }
   ],
   "source": [
    "name = input('What`s your name? ')\n",
    "len(name)"
   ]
  },
  {
   "cell_type": "code",
   "execution_count": 19,
   "metadata": {},
   "outputs": [
    {
     "name": "stdout",
     "output_type": "stream",
     "text": [
      "What`s your name? Freddy\n"
     ]
    },
    {
     "data": {
      "text/plain": [
       "int"
      ]
     },
     "execution_count": 19,
     "metadata": {},
     "output_type": "execute_result"
    }
   ],
   "source": [
    "name = input('What`s your name? ')\n",
    "len(name)\n",
    "type(len(name))"
   ]
  },
  {
   "cell_type": "code",
   "execution_count": 22,
   "metadata": {},
   "outputs": [
    {
     "name": "stdout",
     "output_type": "stream",
     "text": [
      "Назовите фамилию президента России, когда вы родились: Ельцин\n",
      "Назовите фамилию текущего президента России: Путин\n"
     ]
    },
    {
     "data": {
      "text/plain": [
       "False"
      ]
     },
     "execution_count": 22,
     "metadata": {},
     "output_type": "execute_result"
    }
   ],
   "source": [
    "president1 = input('Назовите фамилию президента России, когда вы родились: ')\n",
    "president2 = input('Назовите фамилию текущего президента России: ')\n",
    "president1 == president2\n"
   ]
  },
  {
   "cell_type": "code",
   "execution_count": 6,
   "metadata": {},
   "outputs": [
    {
     "name": "stdout",
     "output_type": "stream",
     "text": [
      "Задайте число: 666\n",
      "1332\n"
     ]
    }
   ],
   "source": [
    "x = input('Задайте число: ')\n",
    "y = int(x)\n",
    "print(y * 2)"
   ]
  },
  {
   "cell_type": "code",
   "execution_count": 4,
   "metadata": {},
   "outputs": [
    {
     "name": "stdout",
     "output_type": "stream",
     "text": [
      "Задайте число: 78\n",
      "За числом 78 следует число 79. Перед числом 78 следует число 77\n",
      "За числом 78 следует число 79. Перед числом 78 следует число 77\n"
     ]
    }
   ],
   "source": [
    "x = input('Задайте число: ')\n",
    "y = int(x)\n",
    "c = int(y)+1\n",
    "z = int(y)-1\n",
    "print('За числом ' + str(y) + ' следует число ' + str(c) + \". \" + 'Перед числом ' + str(y) + ' следует число ' + str(z))\n",
    "\n",
    "print('За числом {y} следует число {c}. Перед числом {y} следует число {z}'.format(y =y, c=c, z=z))\n"
   ]
  },
  {
   "cell_type": "code",
   "execution_count": 14,
   "metadata": {},
   "outputs": [
    {
     "name": "stdout",
     "output_type": "stream",
     "text": [
      "Загадайте число. Что бы вы ни выбрали, оно станет 4. Проверим? 7\n",
      "число 7 умноженное на 2 равно 14\n",
      "14 плюс 8 равно 22\n",
      "22 делить на два равно 11.0 и минус 7 равно  4\n"
     ]
    }
   ],
   "source": [
    "x=input('Загадайте число. Что бы вы ни выбрали, оно станет 4. Проверим? ')\n",
    "y=int(x)\n",
    "c=int(y)*2\n",
    "print('число {y} умноженное на 2 равно {c}'.format(y=y, c=c))\n",
    "z=int(c)+8\n",
    "print('{c} плюс 8 равно {z}'.format(c=c, z=z))\n",
    "b=int(z)/2\n",
    "f=int(b)-int(y)\n",
    "print('{z} делить на два равно {b} и минус {y} равно  {f}'.format(z=z,y=y, b=b, f=f))"
   ]
  },
  {
   "cell_type": "code",
   "execution_count": null,
   "metadata": {},
   "outputs": [],
   "source": [
    "\n"
   ]
  }
 ],
 "metadata": {
  "kernelspec": {
   "display_name": "Python 3",
   "language": "python",
   "name": "python3"
  },
  "language_info": {
   "codemirror_mode": {
    "name": "ipython",
    "version": 3
   },
   "file_extension": ".py",
   "mimetype": "text/x-python",
   "name": "python",
   "nbconvert_exporter": "python",
   "pygments_lexer": "ipython3",
   "version": "3.7.6"
  }
 },
 "nbformat": 4,
 "nbformat_minor": 4
}
